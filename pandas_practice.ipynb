{
 "cells": [
  {
   "cell_type": "code",
   "execution_count": 1,
   "id": "b687d740",
   "metadata": {},
   "outputs": [
    {
     "name": "stdout",
     "output_type": "stream",
     "text": [
      "Hernandez High School\n",
      "Figueroa High School\n",
      "Wilson High School\n",
      "Wright High School\n"
     ]
    }
   ],
   "source": [
    "#Adding Pandas dependencies \n",
    "import pandas as pd \n",
    "\n",
    "\n",
    "\n",
    "#SkilDrill- Iterate through the list of high schools and print out each high school, as shown in the following image.\n",
    "#List of High Schools \n",
    "high_schools = [\"Hernandez High School\", \"Figueroa High School\",\n",
    "                \"Wilson High School\",\"Wright High School\"]\n",
    "for i in range(len(high_schools)):\n",
    "    print(high_schools[i])"
   ]
  },
  {
   "cell_type": "code",
   "execution_count": 2,
   "id": "63da9e8f",
   "metadata": {},
   "outputs": [
    {
     "name": "stdout",
     "output_type": "stream",
     "text": [
      "Hernandez High School\n",
      "Figueroa High School\n",
      "Wilson High School\n",
      "Wright High School\n"
     ]
    }
   ],
   "source": [
    "#skill drill - Iterate through the list of high schools and print out each high school, as shown in the following image.\n",
    "for names in high_schools:\n",
    "    print(names)"
   ]
  },
  {
   "cell_type": "code",
   "execution_count": 3,
   "id": "5eeac2b7",
   "metadata": {},
   "outputs": [
    {
     "name": "stdout",
     "output_type": "stream",
     "text": [
      "{'High School': 'Griffin', 'Type': 'District'}\n",
      "{'High School': 'Figueroa', 'Type': 'District'}\n",
      "{'High School': 'Wilson', 'Type': 'Charter'}\n",
      "{'High School': 'Wright', 'Type': 'Charter'}\n"
     ]
    }
   ],
   "source": [
    "#Skill Drill - terate through the list of dictionaries and print out each high school and their types, as shown in the following image.\n",
    "# A dictionary of high schools and the type of school.\n",
    "high_school_types = [{\"High School\": \"Griffin\", \"Type\":\"District\"},\n",
    "                    {\"High School\": \"Figueroa\", \"Type\": \"District\"},\n",
    "                    {\"High School\": \"Wilson\", \"Type\": \"Charter\"},\n",
    "                    {\"High School\": \"Wright\", \"Type\": \"Charter\"}]\n",
    "for high_school_dict in high_school_types:\n",
    "    print(high_school_dict)"
   ]
  },
  {
   "cell_type": "code",
   "execution_count": 5,
   "id": "249c2fe9",
   "metadata": {},
   "outputs": [
    {
     "data": {
      "text/plain": [
       "0         Huang High School\n",
       "1      Figueroa High School\n",
       "2       Shelton High School\n",
       "3     Hernandez High School\n",
       "4       Griffin High School\n",
       "5        Wilson High School\n",
       "6       Cabrera High School\n",
       "7        Bailey High School\n",
       "8        Holden High School\n",
       "9          Pena High School\n",
       "10       Wright High School\n",
       "11    Rodriguez High School\n",
       "12      Johnson High School\n",
       "13         Ford High School\n",
       "14       Thomas High School\n",
       "dtype: object"
      ]
     },
     "execution_count": 5,
     "metadata": {},
     "output_type": "execute_result"
    }
   ],
   "source": [
    "#Creating Pandas Series for the highschool names list \n",
    "\n",
    "#Adding Pandas dependencies \n",
    "import pandas as pd \n",
    "\n",
    "\n",
    "\n",
    "# creating a list of high school names \n",
    "# List of high schools\n",
    "high_schools = [\"Huang High School\",  \"Figueroa High School\", \"Shelton High School\", \"Hernandez High School\",\"Griffin High School\",\"Wilson High School\", \"Cabrera High School\", \"Bailey High School\", \"Holden High School\", \"Pena High School\", \"Wright High School\",\"Rodriguez High School\", \"Johnson High School\", \"Ford High School\", \"Thomas High School\"]\n",
    "\n",
    "\n",
    "#create pandas series from the list \n",
    "schools_series = pd.Series(high_schools)\n",
    "schools_series"
   ]
  },
  {
   "cell_type": "code",
   "execution_count": 11,
   "id": "dbc26192",
   "metadata": {},
   "outputs": [
    {
     "name": "stdout",
     "output_type": "stream",
     "text": [
      "0         Huang High School\n",
      "1      Figueroa High School\n",
      "2       Shelton High School\n",
      "3     Hernandez High School\n",
      "4       Griffin High School\n",
      "5        Wilson High School\n",
      "6       Cabrera High School\n",
      "7        Bailey High School\n",
      "8        Holden High School\n",
      "9          Pena High School\n",
      "10       Wright High School\n",
      "11    Rodriguez High School\n",
      "12      Johnson High School\n",
      "13         Ford High School\n",
      "14       Thomas High School\n",
      "dtype: object\n",
      "\n",
      "\n",
      "Huang High School\n",
      "Figueroa High School\n",
      "Shelton High School\n",
      "Hernandez High School\n",
      "Griffin High School\n",
      "Wilson High School\n",
      "Cabrera High School\n",
      "Bailey High School\n",
      "Holden High School\n",
      "Pena High School\n",
      "Wright High School\n",
      "Rodriguez High School\n",
      "Johnson High School\n",
      "Ford High School\n",
      "Thomas High School\n"
     ]
    }
   ],
   "source": [
    "#Skill Drill:Like a list in Python, indexing can be used to get specific items from a Pandas Series.\n",
    "# Iterate through the school_series and print out each high school.\n",
    "\n",
    "print(schools_series)\n",
    "\n",
    "print(\"\\n\")\n",
    "\n",
    "for schools in schools_series:\n",
    "    print(schools)\n"
   ]
  },
  {
   "cell_type": "code",
   "execution_count": 12,
   "id": "9e1f390e",
   "metadata": {
    "scrolled": false
   },
   "outputs": [
    {
     "name": "stdout",
     "output_type": "stream",
     "text": [
      "[{'School ID': 0, 'school_name': 'Huang High    School', 'type': 'District'}, {'School ID': 1, 'school_name': 'Figueroa High School', 'type': 'District'}, {'School ID': 2, 'school_name': 'Shelton High School', 'type': 'Charter'}, {'School ID': 3, 'school_name': 'Hernandez High School', 'type': 'District'}, {'School ID': 4, 'school_name': 'Griffin High School', 'type': 'Charter'}]\n"
     ]
    },
    {
     "data": {
      "text/html": [
       "<div>\n",
       "<style scoped>\n",
       "    .dataframe tbody tr th:only-of-type {\n",
       "        vertical-align: middle;\n",
       "    }\n",
       "\n",
       "    .dataframe tbody tr th {\n",
       "        vertical-align: top;\n",
       "    }\n",
       "\n",
       "    .dataframe thead th {\n",
       "        text-align: right;\n",
       "    }\n",
       "</style>\n",
       "<table border=\"1\" class=\"dataframe\">\n",
       "  <thead>\n",
       "    <tr style=\"text-align: right;\">\n",
       "      <th></th>\n",
       "      <th>School ID</th>\n",
       "      <th>school_name</th>\n",
       "      <th>type</th>\n",
       "    </tr>\n",
       "  </thead>\n",
       "  <tbody>\n",
       "    <tr>\n",
       "      <th>0</th>\n",
       "      <td>0</td>\n",
       "      <td>Huang High    School</td>\n",
       "      <td>District</td>\n",
       "    </tr>\n",
       "    <tr>\n",
       "      <th>1</th>\n",
       "      <td>1</td>\n",
       "      <td>Figueroa High School</td>\n",
       "      <td>District</td>\n",
       "    </tr>\n",
       "    <tr>\n",
       "      <th>2</th>\n",
       "      <td>2</td>\n",
       "      <td>Shelton High School</td>\n",
       "      <td>Charter</td>\n",
       "    </tr>\n",
       "    <tr>\n",
       "      <th>3</th>\n",
       "      <td>3</td>\n",
       "      <td>Hernandez High School</td>\n",
       "      <td>District</td>\n",
       "    </tr>\n",
       "    <tr>\n",
       "      <th>4</th>\n",
       "      <td>4</td>\n",
       "      <td>Griffin High School</td>\n",
       "      <td>Charter</td>\n",
       "    </tr>\n",
       "  </tbody>\n",
       "</table>\n",
       "</div>"
      ],
      "text/plain": [
       "   School ID            school_name      type\n",
       "0          0   Huang High    School  District\n",
       "1          1   Figueroa High School  District\n",
       "2          2    Shelton High School   Charter\n",
       "3          3  Hernandez High School  District\n",
       "4          4    Griffin High School   Charter"
      ]
     },
     "execution_count": 12,
     "metadata": {},
     "output_type": "execute_result"
    }
   ],
   "source": [
    "# first method : Creating Pandas DataFrame for the list of panda series or to the dictionary  of High_school file . \n",
    "\n",
    "#setting up  dictionary \n",
    "# A dictionary of high schools\n",
    "high_school_dicts = [{\"School ID\": 0, \"school_name\": \"Huang High    School\", \"type\": \"District\"},\n",
    "                   {\"School ID\": 1, \"school_name\": \"Figueroa High School\", \"type\": \"District\"},\n",
    "                    {\"School ID\": 2, \"school_name\":\"Shelton High School\", \"type\": \"Charter\"},\n",
    "                    {\"School ID\": 3, \"school_name\":\"Hernandez High School\", \"type\": \"District\"},\n",
    "                    {\"School ID\": 4, \"school_name\":\"Griffin High School\", \"type\": \"Charter\"}]\n",
    "print(high_school_dicts)\n",
    "\n",
    "\n",
    "#Creating pandas DatafRame to the Dictionary of lists \n",
    "schools_DataFrame = pd.DataFrame(high_school_dicts)\n",
    "schools_DataFrame\n"
   ]
  },
  {
   "cell_type": "code",
   "execution_count": 18,
   "id": "eae3056e",
   "metadata": {},
   "outputs": [
    {
     "name": "stdout",
     "output_type": "stream",
     "text": [
      "   Schools ID\n",
      "0           0\n",
      "1           1\n",
      "2           2\n",
      "3           3\n",
      "4           4\n",
      "\n",
      "\n",
      "   Schools ID            School Name\n",
      "0           0      Huang High School\n",
      "1           1   Figueroa High School\n",
      "2           2    Shelton High School\n",
      "3           3  Hernandez High School\n",
      "4           4    Griffin High School\n",
      "\n",
      "\n",
      "   Schools ID            School Name      Type\n",
      "0           0      Huang High School  District\n",
      "1           1   Figueroa High School  District\n",
      "2           2    Shelton High School   Charter\n",
      "3           3  Hernandez High School  District\n",
      "4           4    Griffin High School   Charter\n"
     ]
    }
   ],
   "source": [
    "# second method - to create DataFrame for the dictionary list - by adding one list  at a time \n",
    "\n",
    "# Three separate lists of information on high schools\n",
    "school_id = [0, 1, 2, 3, 4]\n",
    "\n",
    "school_name = [\"Huang High School\", \"Figueroa High School\",\n",
    "\"Shelton High School\", \"Hernandez High School\",\"Griffin High School\"]\n",
    "\n",
    "type_of_school = [\"District\", \"District\", \"Charter\", \"District\",\"Charter\"]\n",
    "\n",
    "#initialize the new empty DataFrame \n",
    "schools_df =pd.DataFrame()\n",
    "\n",
    "#adding the list one at a time ot the DataFrame\n",
    "schools_df[\"Schools ID\"] = school_id\n",
    "\n",
    "#print it out \n",
    "print(schools_df)\n",
    "print (\"\\n\")\n",
    "\n",
    "#Skill Drill - Adding School name and Type of school to the data Frame \n",
    "schools_df[\"School Name\"] = school_name\n",
    "print(schools_df)\n",
    "print (\"\\n\")\n",
    "schools_df[\"Type\"] = type_of_school\n",
    "print(schools_df)"
   ]
  },
  {
   "cell_type": "code",
   "execution_count": 21,
   "id": "74fffb8a",
   "metadata": {},
   "outputs": [
    {
     "name": "stdout",
     "output_type": "stream",
     "text": [
      "{'School ID': [0, 1, 2, 3, 4], 'school_name': ['Huang High School', 'Figueroa High School', 'Shelton High School', 'Hernandez High School', 'Griffin High School'], 'type': ['District', 'District', 'Charter', 'District', 'Charter']}\n",
      "   School ID            school_name      type\n",
      "0          0      Huang High School  District\n",
      "1          1   Figueroa High School  District\n",
      "2          2    Shelton High School   Charter\n",
      "3          3  Hernandez High School  District\n",
      "4          4    Griffin High School   Charter\n"
     ]
    }
   ],
   "source": [
    "#third method  - to create a dataFrame out of high_school Dicitonary is first to  create a python dicionary from the 3 lists \n",
    "\n",
    "# Create a dictionary of information on high schools.\n",
    "high_schools_dict = {'School ID': school_id, 'school_name':school_name, 'type':type_of_school}\n",
    "print(high_schools_dict)\n",
    "\n",
    "#SkillDrill   - convert the high_schools_dict to a DataFrame \n",
    "# to create a dataFrame for the python dictionary high_schools_dict \n",
    "\n",
    "highschooldict_df = pd.DataFrame(high_schools_dict)\n",
    "print(highschooldict_df)\n"
   ]
  },
  {
   "cell_type": "code",
   "execution_count": 23,
   "id": "d15c2f18",
   "metadata": {},
   "outputs": [
    {
     "data": {
      "text/plain": [
       "Index(['Schools ID', 'School Name', 'Type'], dtype='object')"
      ]
     },
     "execution_count": 23,
     "metadata": {},
     "output_type": "execute_result"
    }
   ],
   "source": [
    "# the Column attributes in Data Frame - display the header \n",
    "\n",
    "# To get the column names of a DataFrame, use df.columns. Here's how you would apply the columns attribute to the school_df DataFrame:\n",
    "\n",
    "highschooldict_df.columns\n",
    "\n",
    "schools_df.columns"
   ]
  },
  {
   "cell_type": "code",
   "execution_count": 25,
   "id": "ce6187e4",
   "metadata": {},
   "outputs": [
    {
     "data": {
      "text/plain": [
       "RangeIndex(start=0, stop=5, step=1)"
      ]
     },
     "execution_count": 25,
     "metadata": {},
     "output_type": "execute_result"
    }
   ],
   "source": [
    "# index attributes in dataFrame : displays the left most margin to determin hte row count . \n",
    "\n",
    "# To get the indxes of the DataFrame, use df.index. Here's how you would apply the index attribute to the school_df DataFrame:\n",
    "\n",
    "schools_df.index\n",
    "# o/p - When you run this cell, the output is a RangeIndexthat contains the first and last index value, as well as the \"step=1,\" or how often the index increments. \n",
    "#In this case, the index increments a value of 1 from the beginning index to the ending index."
   ]
  },
  {
   "cell_type": "code",
   "execution_count": 27,
   "id": "8752105e",
   "metadata": {},
   "outputs": [
    {
     "data": {
      "text/plain": [
       "array([[0, 'Huang High School', 'District'],\n",
       "       [1, 'Figueroa High School', 'District'],\n",
       "       [2, 'Shelton High School', 'Charter'],\n",
       "       [3, 'Hernandez High School', 'District'],\n",
       "       [4, 'Griffin High School', 'Charter']], dtype=object)"
      ]
     },
     "execution_count": 27,
     "metadata": {},
     "output_type": "execute_result"
    }
   ],
   "source": [
    "# Value Attributes in Data Frame : Displays the vlaues form the file _ all hte data row wise \n",
    "\n",
    "# to get the values of hte dstaFrame \n",
    "highschooldict_df.values\n",
    "schools_df.values\n"
   ]
  },
  {
   "cell_type": "code",
   "execution_count": 38,
   "id": "99a7dbc3",
   "metadata": {},
   "outputs": [
    {
     "name": "stdout",
     "output_type": "stream",
     "text": [
      "['Huang High School', 'Figueroa High School', 'Shelton High School', 'Hernandez High School', 'Griffin High School', 'Wilson High School', 'Cabrera High School', 'Bailey High School', 'Holden High School', 'Pena High School', 'Wright High School', 'Rodriguez High School', 'Johnson High School', 'Ford High School', 'Thomas High School']\n",
      "     0\n",
      "0    0\n",
      "1    1\n",
      "2    2\n",
      "3    3\n",
      "4    4\n",
      "5    5\n",
      "6    6\n",
      "7    7\n",
      "8    8\n",
      "9    9\n",
      "10  10\n",
      "11  11\n",
      "12  12\n",
      "13  13\n",
      "14  14\n",
      "                        0\n",
      "0       Huang High School\n",
      "1    Figueroa High School\n",
      "2     Shelton High School\n",
      "3   Hernandez High School\n",
      "4     Griffin High School\n",
      "5      Wilson High School\n",
      "6     Cabrera High School\n",
      "7      Bailey High School\n",
      "8      Holden High School\n",
      "9        Pena High School\n",
      "10     Wright High School\n",
      "11  Rodriguez High School\n",
      "12    Johnson High School\n",
      "13       Ford High School\n",
      "14     Thomas High School\n",
      "           0\n",
      "0   District\n",
      "1   District\n",
      "2    Charter\n",
      "3   District\n",
      "4    Charter\n",
      "5    Charter\n",
      "6    Charter\n",
      "7   District\n",
      "8    Charter\n",
      "9    Charter\n",
      "10   Charter\n",
      "11  District\n",
      "12  District\n",
      "13  District\n",
      "14   Charter\n"
     ]
    }
   ],
   "source": [
    "# Skill Drill -create a list for each column and add each list to a new Pandas DataFrame.\n",
    "\n",
    "print(high_schools)\n",
    "\n",
    "School_Id = [0,1,2,3,4,5,6,7,8,9,10,11,12,13,14]\n",
    "schoolID_df = pd.DataFrame(School_Id)\n",
    "schoolID_df\n",
    "print(schoolID_df)\n",
    "\n",
    "School_name = [\"Huang High School\",\"Figueroa High School\",\"Shelton High School\",\"Hernandez High School\",\"Griffin High School\",\"Wilson High School\",\"Cabrera High School\",\"Bailey High School\",\"Holden High School\",\"Pena High School\",\"Wright High School\",\"Rodriguez High School\",\"Johnson High School\",\"Ford High School\",\"Thomas High School\"]\n",
    "schoolname_df = pd.DataFrame(School_name)\n",
    "schoolname_df\n",
    "print(schoolname_df)\n",
    "\n",
    "type_of_school = [\"District\",\"District\",\"Charter\",\"District\",\"Charter\",\"Charter\",\"Charter\",\"District\",\"Charter\",\"Charter\",\"Charter\",\"District\",\"District\",\"District\",\"Charter\"]\n",
    "type_df = pd.DataFrame(type_of_school)\n",
    "type_df\n",
    "print(type_df)\n",
    "\n"
   ]
  },
  {
   "cell_type": "code",
   "execution_count": null,
   "id": "af7c9a32",
   "metadata": {},
   "outputs": [],
   "source": []
  }
 ],
 "metadata": {
  "kernelspec": {
   "display_name": "PythonData",
   "language": "python",
   "name": "pythondata"
  },
  "language_info": {
   "codemirror_mode": {
    "name": "ipython",
    "version": 3
   },
   "file_extension": ".py",
   "mimetype": "text/x-python",
   "name": "python",
   "nbconvert_exporter": "python",
   "pygments_lexer": "ipython3",
   "version": "3.9.7"
  }
 },
 "nbformat": 4,
 "nbformat_minor": 5
}
