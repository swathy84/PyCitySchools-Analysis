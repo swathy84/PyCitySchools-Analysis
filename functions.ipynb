{
 "cells": [
  {
   "cell_type": "code",
   "execution_count": 4,
   "id": "2db427f9",
   "metadata": {},
   "outputs": [],
   "source": [
    "# define the functions say_hello() , so everytime it is called it will print \"hello\"\n",
    "def say_hello():\n",
    "    print(\"hello\")\n",
    "    \n"
   ]
  },
  {
   "cell_type": "code",
   "execution_count": 8,
   "id": "ab51601d",
   "metadata": {},
   "outputs": [
    {
     "name": "stdout",
     "output_type": "stream",
     "text": [
      "Hello!\n"
     ]
    }
   ],
   "source": [
    "#call the function\n",
    "say_hello()"
   ]
  },
  {
   "cell_type": "code",
   "execution_count": 12,
   "id": "fa9961f3",
   "metadata": {},
   "outputs": [
    {
     "name": "stdout",
     "output_type": "stream",
     "text": [
      "Hello World\n"
     ]
    }
   ],
   "source": [
    "# Define the function \"say_something\" so it prints whatever is passed as the variable when called\n",
    "def say_something(something):\n",
    "    print(something)\n",
    "\n",
    "say_something(\"Hello World\")"
   ]
  },
  {
   "cell_type": "code",
   "execution_count": 13,
   "id": "27129b0c",
   "metadata": {},
   "outputs": [
    {
     "name": "stdout",
     "output_type": "stream",
     "text": [
      "i am learning Python\n"
     ]
    }
   ],
   "source": [
    "# define the function so it prints what ever is passed as the variable when called \n",
    "sweety_says = \"i am learning Python\"\n",
    "def say_something(sweety_says):\n",
    "    print(sweety_says)\n",
    "\n",
    "say_something(sweety_says)\n",
    "\n"
   ]
  },
  {
   "cell_type": "code",
   "execution_count": 16,
   "id": "09bc1225",
   "metadata": {},
   "outputs": [
    {
     "data": {
      "text/plain": [
       "0    B\n",
       "1    C\n",
       "2    B\n",
       "3    D\n",
       "dtype: object"
      ]
     },
     "execution_count": 16,
     "metadata": {},
     "output_type": "execute_result"
    }
   ],
   "source": [
    "# A list of my grades.\n",
    "my_grades = ['B', 'C', 'B' , 'D']\n",
    "\n",
    "# import pandas dependencies \n",
    "\n",
    "import pandas as pd \n",
    " \n",
    "#convert my_grades into Series \n",
    "my_grades = pd.Series(my_grades)\n",
    "my_grades"
   ]
  },
  {
   "cell_type": "code",
   "execution_count": 18,
   "id": "dee766ca",
   "metadata": {},
   "outputs": [
    {
     "data": {
      "text/plain": [
       "0    A\n",
       "1    B\n",
       "2    A\n",
       "3    C\n",
       "dtype: object"
      ]
     },
     "execution_count": 18,
     "metadata": {},
     "output_type": "execute_result"
    }
   ],
   "source": [
    "#to change the grades  by using map() functions \n",
    "my_grades.map({\"B\": \"A\", \"C\":\"B\", \"D\":\"C\"})"
   ]
  },
  {
   "cell_type": "code",
   "execution_count": 22,
   "id": "64b2d142",
   "metadata": {},
   "outputs": [
    {
     "name": "stdout",
     "output_type": "stream",
     "text": [
      "46\n",
      "44\n",
      "89\n"
     ]
    }
   ],
   "source": [
    "# using format() function\n",
    "my_grades = [45.54,43.67,88.98]\n",
    "for grades in my_grades:\n",
    "    print(\"{:.0f}\".format(grades))"
   ]
  },
  {
   "cell_type": "code",
   "execution_count": 25,
   "id": "8381d78d",
   "metadata": {},
   "outputs": [
    {
     "data": {
      "text/plain": [
       "0    34\n",
       "1    46\n",
       "2    67\n",
       "3    88\n",
       "dtype: object"
      ]
     },
     "execution_count": 25,
     "metadata": {},
     "output_type": "execute_result"
    }
   ],
   "source": [
    "#convert the numeric grades into Series \n",
    "my_grades = pd.Series([34.45,45.56,67.43,88.09])\n",
    "my_grades\n",
    "\n",
    "#format the  grades \n",
    "my_grades.map(\"{:.0f}\".format)"
   ]
  },
  {
   "cell_type": "code",
   "execution_count": 37,
   "id": "5cb9d94f",
   "metadata": {},
   "outputs": [],
   "source": [
    "#the keyword class is used to create a class. \n",
    "#the __init__ method is a special method called a \"class constructor\" that Python calls every time a new instance of the class is created. \n",
    "#This method takes two arguments: self and name. \n",
    "#The self argument refers to a specific Cat object that is created when this method is called. \n",
    "#The second argument, name, will be specified each time a new Cat object is created. \n",
    "\n",
    "class Cat:\n",
    "    def __init__(self,name):\n",
    "        self.name = name\n",
    "        \n"
   ]
  },
  {
   "cell_type": "code",
   "execution_count": 42,
   "id": "46f2cd2b",
   "metadata": {},
   "outputs": [
    {
     "name": "stdout",
     "output_type": "stream",
     "text": [
      "Felix\n"
     ]
    }
   ],
   "source": [
    "#an object whose name is Felix is created, or instantiated.\n",
    "#Since it is assigned to the variable first_cat, first_cat.name returns Felix.\n",
    "#The name attribute does not belong to all Cat objects; it belongs to the specific Cat object called first_cat.\n",
    "\n",
    "\n",
    "first_cat = Cat('Felix')\n",
    "print(first_cat.name)"
   ]
  },
  {
   "cell_type": "code",
   "execution_count": 43,
   "id": "02887b29",
   "metadata": {},
   "outputs": [
    {
     "name": "stdout",
     "output_type": "stream",
     "text": [
      "Garfield\n"
     ]
    }
   ],
   "source": [
    "# Skill Drill - Create another object of the Cat class. Its name should be Garfield, and the object should be assigned to the variable second_cat. \n",
    "#What does second_cat.name return?\n",
    "\n",
    "second_cat =Cat('Garfield')\n",
    "print(second_cat.name)"
   ]
  },
  {
   "cell_type": "code",
   "execution_count": 44,
   "id": "04b23294",
   "metadata": {},
   "outputs": [],
   "source": [
    "#This class contains three attributes: name, color, and sound.\n",
    "#It also contains a method, or a function that is associated with an object. \n",
    "#This means that an object created from this Dog class can now perform an action through the bark method.\n",
    "\n",
    "\n",
    "class Dog:\n",
    "    def __init__(self, name, color, sound):\n",
    "        self.name = name\n",
    "        self.color = color\n",
    "        self.sound = sound\n",
    "\n",
    "    def bark(self):\n",
    "        return(self.sound + ' ' + self.sound)\n"
   ]
  },
  {
   "cell_type": "code",
   "execution_count": 45,
   "id": "eb2ed968",
   "metadata": {},
   "outputs": [
    {
     "name": "stdout",
     "output_type": "stream",
     "text": [
      "Fido\n",
      "brown\n"
     ]
    },
    {
     "data": {
      "text/plain": [
       "'woof! woof!'"
      ]
     },
     "execution_count": 45,
     "metadata": {},
     "output_type": "execute_result"
    }
   ],
   "source": [
    "#The first_dog's bark method returns the first_dog's sound property twice: because the sound property is woof! \n",
    "#for this object, calling the bark method returns woof! woof!.\n",
    "\n",
    "\n",
    "first_dog = Dog('Fido', 'brown', 'woof!')\n",
    "print(    first_dog.name)\n",
    "print(first_dog.color)\n",
    "first_dog.bark()"
   ]
  },
  {
   "cell_type": "code",
   "execution_count": 48,
   "id": "3cc920c2",
   "metadata": {},
   "outputs": [
    {
     "name": "stdout",
     "output_type": "stream",
     "text": [
      "Lady\n",
      "blonde\n"
     ]
    },
    {
     "data": {
      "text/plain": [
       "'arf arf'"
      ]
     },
     "execution_count": 48,
     "metadata": {},
     "output_type": "execute_result"
    }
   ],
   "source": [
    "#Skill Drill - Instantiate another object of the Dog class. Its name should be Lady, its color should be blonde, and its sound should be arf!. \n",
    "#The object should be assigned to the variable second_dog. Call this object's bark method.\n",
    "\n",
    "second_dog = Dog(\"Lady\",\"blonde\",\"arf\")\n",
    "print(second_dog.name)\n",
    "print(second_dog.color)\n",
    "second_dog.bark()\n"
   ]
  },
  {
   "cell_type": "code",
   "execution_count": null,
   "id": "52a11d2f",
   "metadata": {},
   "outputs": [],
   "source": []
  }
 ],
 "metadata": {
  "kernelspec": {
   "display_name": "PythonData",
   "language": "python",
   "name": "pythondata"
  },
  "language_info": {
   "codemirror_mode": {
    "name": "ipython",
    "version": 3
   },
   "file_extension": ".py",
   "mimetype": "text/x-python",
   "name": "python",
   "nbconvert_exporter": "python",
   "pygments_lexer": "ipython3",
   "version": "3.9.7"
  }
 },
 "nbformat": 4,
 "nbformat_minor": 5
}
